{
 "cells": [
  {
   "cell_type": "code",
   "execution_count": 35,
   "id": "2328b82e",
   "metadata": {},
   "outputs": [],
   "source": [
    "import time\n",
    "import os\n",
    "\n",
    "path = '/Users/viedamayanti/Desktop/Data_file/Combined_Flights_2021.csv'\n"
   ]
  },
  {
   "cell_type": "code",
   "execution_count": 36,
   "id": "1d65b0e3",
   "metadata": {},
   "outputs": [
    {
     "name": "stdout",
     "output_type": "stream",
     "text": [
      "Read csv with dask:  0.07381987571716309 sec\n"
     ]
    }
   ],
   "source": [
    "from dask import dataframe as dd\n",
    "start = time.time()\n",
    "dask_df = dd.read_csv(path)\n",
    "end = time.time()\n",
    "print(\"Read csv with dask: \",(end-start),\"sec\")"
   ]
  },
  {
   "cell_type": "code",
   "execution_count": 37,
   "id": "13af4963",
   "metadata": {},
   "outputs": [
    {
     "name": "stdout",
     "output_type": "stream",
     "text": [
      "Read csv with pandas:  86.5959050655365 sec\n"
     ]
    }
   ],
   "source": [
    "import pandas as pd\n",
    "start = time.time()\n",
    "pandas_df = pd.read_csv(path)\n",
    "end = time.time()\n",
    "print(\"Read csv with pandas: \",(end-start),\"sec\")"
   ]
  },
  {
   "cell_type": "markdown",
   "id": "bc00559d",
   "metadata": {},
   "source": [
    "I have difficulties using Modin and Ray, so I stick to Dask and Pandas. However, between these two, Dask performs better than Pandas. Therefore, I am using Dask"
   ]
  },
  {
   "cell_type": "code",
   "execution_count": 38,
   "id": "a527f443",
   "metadata": {},
   "outputs": [
    {
     "data": {
      "text/html": [
       "<div>\n",
       "<style scoped>\n",
       "    .dataframe tbody tr th:only-of-type {\n",
       "        vertical-align: middle;\n",
       "    }\n",
       "\n",
       "    .dataframe tbody tr th {\n",
       "        vertical-align: top;\n",
       "    }\n",
       "\n",
       "    .dataframe thead th {\n",
       "        text-align: right;\n",
       "    }\n",
       "</style>\n",
       "<table border=\"1\" class=\"dataframe\">\n",
       "  <thead>\n",
       "    <tr style=\"text-align: right;\">\n",
       "      <th></th>\n",
       "      <th>FlightDate</th>\n",
       "      <th>Airline</th>\n",
       "      <th>Origin</th>\n",
       "      <th>Dest</th>\n",
       "      <th>Cancelled</th>\n",
       "      <th>Diverted</th>\n",
       "      <th>CRSDepTime</th>\n",
       "      <th>DepTime</th>\n",
       "      <th>DepDelayMinutes</th>\n",
       "      <th>DepDelay</th>\n",
       "      <th>...</th>\n",
       "      <th>WheelsOff</th>\n",
       "      <th>WheelsOn</th>\n",
       "      <th>TaxiIn</th>\n",
       "      <th>CRSArrTime</th>\n",
       "      <th>ArrDelay</th>\n",
       "      <th>ArrDel15</th>\n",
       "      <th>ArrivalDelayGroups</th>\n",
       "      <th>ArrTimeBlk</th>\n",
       "      <th>DistanceGroup</th>\n",
       "      <th>DivAirportLandings</th>\n",
       "    </tr>\n",
       "  </thead>\n",
       "  <tbody>\n",
       "    <tr>\n",
       "      <th>0</th>\n",
       "      <td>2021-03-03</td>\n",
       "      <td>SkyWest Airlines Inc.</td>\n",
       "      <td>SGU</td>\n",
       "      <td>PHX</td>\n",
       "      <td>False</td>\n",
       "      <td>False</td>\n",
       "      <td>724</td>\n",
       "      <td>714.0</td>\n",
       "      <td>0.0</td>\n",
       "      <td>-10.0</td>\n",
       "      <td>...</td>\n",
       "      <td>724.0</td>\n",
       "      <td>813.0</td>\n",
       "      <td>5.0</td>\n",
       "      <td>843</td>\n",
       "      <td>-25.0</td>\n",
       "      <td>0.0</td>\n",
       "      <td>-2.0</td>\n",
       "      <td>0800-0859</td>\n",
       "      <td>2</td>\n",
       "      <td>0.0</td>\n",
       "    </tr>\n",
       "    <tr>\n",
       "      <th>1</th>\n",
       "      <td>2021-03-03</td>\n",
       "      <td>SkyWest Airlines Inc.</td>\n",
       "      <td>PHX</td>\n",
       "      <td>SGU</td>\n",
       "      <td>False</td>\n",
       "      <td>False</td>\n",
       "      <td>922</td>\n",
       "      <td>917.0</td>\n",
       "      <td>0.0</td>\n",
       "      <td>-5.0</td>\n",
       "      <td>...</td>\n",
       "      <td>940.0</td>\n",
       "      <td>1028.0</td>\n",
       "      <td>3.0</td>\n",
       "      <td>1040</td>\n",
       "      <td>-9.0</td>\n",
       "      <td>0.0</td>\n",
       "      <td>-1.0</td>\n",
       "      <td>1000-1059</td>\n",
       "      <td>2</td>\n",
       "      <td>0.0</td>\n",
       "    </tr>\n",
       "    <tr>\n",
       "      <th>2</th>\n",
       "      <td>2021-03-03</td>\n",
       "      <td>SkyWest Airlines Inc.</td>\n",
       "      <td>MHT</td>\n",
       "      <td>ORD</td>\n",
       "      <td>False</td>\n",
       "      <td>False</td>\n",
       "      <td>1330</td>\n",
       "      <td>1321.0</td>\n",
       "      <td>0.0</td>\n",
       "      <td>-9.0</td>\n",
       "      <td>...</td>\n",
       "      <td>1336.0</td>\n",
       "      <td>1445.0</td>\n",
       "      <td>16.0</td>\n",
       "      <td>1530</td>\n",
       "      <td>-29.0</td>\n",
       "      <td>0.0</td>\n",
       "      <td>-2.0</td>\n",
       "      <td>1500-1559</td>\n",
       "      <td>4</td>\n",
       "      <td>0.0</td>\n",
       "    </tr>\n",
       "  </tbody>\n",
       "</table>\n",
       "<p>3 rows × 61 columns</p>\n",
       "</div>"
      ],
      "text/plain": [
       "   FlightDate                Airline Origin Dest  Cancelled  Diverted  \\\n",
       "0  2021-03-03  SkyWest Airlines Inc.    SGU  PHX      False     False   \n",
       "1  2021-03-03  SkyWest Airlines Inc.    PHX  SGU      False     False   \n",
       "2  2021-03-03  SkyWest Airlines Inc.    MHT  ORD      False     False   \n",
       "\n",
       "   CRSDepTime  DepTime  DepDelayMinutes  DepDelay  ...  WheelsOff  WheelsOn  \\\n",
       "0         724    714.0              0.0     -10.0  ...      724.0     813.0   \n",
       "1         922    917.0              0.0      -5.0  ...      940.0    1028.0   \n",
       "2        1330   1321.0              0.0      -9.0  ...     1336.0    1445.0   \n",
       "\n",
       "   TaxiIn  CRSArrTime  ArrDelay  ArrDel15  ArrivalDelayGroups  ArrTimeBlk  \\\n",
       "0     5.0         843     -25.0       0.0                -2.0   0800-0859   \n",
       "1     3.0        1040      -9.0       0.0                -1.0   1000-1059   \n",
       "2    16.0        1530     -29.0       0.0                -2.0   1500-1559   \n",
       "\n",
       "   DistanceGroup  DivAirportLandings  \n",
       "0              2                 0.0  \n",
       "1              2                 0.0  \n",
       "2              4                 0.0  \n",
       "\n",
       "[3 rows x 61 columns]"
      ]
     },
     "execution_count": 38,
     "metadata": {},
     "output_type": "execute_result"
    }
   ],
   "source": [
    "df = dd.read_csv(path)\n",
    "df.head(3)"
   ]
  },
  {
   "cell_type": "code",
   "execution_count": 39,
   "id": "8194b718",
   "metadata": {},
   "outputs": [
    {
     "name": "stdout",
     "output_type": "stream",
     "text": [
      "<class 'dask.dataframe.core.DataFrame'>\n",
      "Columns: 61 entries, FlightDate to DivAirportLandings\n",
      "dtypes: object(18), bool(2), float64(19), int64(22)"
     ]
    }
   ],
   "source": [
    "df.info()"
   ]
  },
  {
   "cell_type": "code",
   "execution_count": 40,
   "id": "f9986e38",
   "metadata": {},
   "outputs": [
    {
     "data": {
      "text/plain": [
       "Index(['FlightDate', 'Airline', 'Origin', 'Dest', 'Cancelled', 'Diverted',\n",
       "       'CRSDepTime', 'DepTime', 'DepDelayMinutes', 'DepDelay', 'ArrTime',\n",
       "       'ArrDelayMinutes', 'AirTime', 'CRSElapsedTime', 'ActualElapsedTime',\n",
       "       'Distance', 'Year', 'Quarter', 'Month', 'DayofMonth', 'DayOfWeek',\n",
       "       'Marketing_Airline_Network', 'Operated_or_Branded_Code_Share_Partners',\n",
       "       'DOT_ID_Marketing_Airline', 'IATA_Code_Marketing_Airline',\n",
       "       'Flight_Number_Marketing_Airline', 'Operating_Airline',\n",
       "       'DOT_ID_Operating_Airline', 'IATA_Code_Operating_Airline',\n",
       "       'Tail_Number', 'Flight_Number_Operating_Airline', 'OriginAirportID',\n",
       "       'OriginAirportSeqID', 'OriginCityMarketID', 'OriginCityName',\n",
       "       'OriginState', 'OriginStateFips', 'OriginStateName', 'OriginWac',\n",
       "       'DestAirportID', 'DestAirportSeqID', 'DestCityMarketID', 'DestCityName',\n",
       "       'DestState', 'DestStateFips', 'DestStateName', 'DestWac', 'DepDel15',\n",
       "       'DepartureDelayGroups', 'DepTimeBlk', 'TaxiOut', 'WheelsOff',\n",
       "       'WheelsOn', 'TaxiIn', 'CRSArrTime', 'ArrDelay', 'ArrDel15',\n",
       "       'ArrivalDelayGroups', 'ArrTimeBlk', 'DistanceGroup',\n",
       "       'DivAirportLandings'],\n",
       "      dtype='object')"
      ]
     },
     "execution_count": 40,
     "metadata": {},
     "output_type": "execute_result"
    }
   ],
   "source": [
    "df.columns"
   ]
  },
  {
   "cell_type": "code",
   "execution_count": 41,
   "id": "42160953",
   "metadata": {},
   "outputs": [
    {
     "data": {
      "text/plain": [
       "0"
      ]
     },
     "execution_count": 41,
     "metadata": {},
     "output_type": "execute_result"
    }
   ],
   "source": [
    "df.columns.isnull().sum()"
   ]
  },
  {
   "cell_type": "code",
   "execution_count": 42,
   "id": "ebb24a04",
   "metadata": {},
   "outputs": [
    {
     "name": "stdout",
     "output_type": "stream",
     "text": [
      "False    51\n",
      "True     10\n",
      "Name: count, dtype: int64\n"
     ]
    }
   ],
   "source": [
    "import re\n",
    "def special_characters(value):\n",
    "    return bool(re.search(r'[^a-zA-Z0-9\\s]', str(value)))\n",
    "\n",
    "special_characters_check = df.columns.map(special_characters)\n",
    "print(special_characters_check.value_counts())"
   ]
  },
  {
   "cell_type": "code",
   "execution_count": 43,
   "id": "2bf6a6dc",
   "metadata": {},
   "outputs": [
    {
     "name": "stdout",
     "output_type": "stream",
     "text": [
      "Overwriting flight_data.yaml\n"
     ]
    }
   ],
   "source": [
    "%%writefile flight_data.yaml\n",
    "file_type: csv\n",
    "file_name: Combined_Flights_2021\n",
    "inbound_delimiter: \",\"\n",
    "outbound_delimiter: \"|\"\n",
    "columns:\n",
    "- FlightDate\n",
    "- Airline\n",
    "- Origin\n",
    "- Dest\n",
    "- Cancelled\n",
    "- Diverted\n",
    "- CRSDepTime\n",
    "- DepTime\n",
    "- DepDelayMinutes\n",
    "- DepDelay\n",
    "- ArrTime\n",
    "- ArrDelayMinutes\n",
    "- AirTime\n",
    "- CRSElapsedTime\n",
    "- ActualElapsedTime\n",
    "- Distance\n",
    "- Year\n",
    "- Quarter\n",
    "- Month\n",
    "- DayofMonth\n",
    "- DayOfWeek\n",
    "- Marketing_Airline_Network\n",
    "- Operated_or_Branded_Code_Share_Partners\n",
    "- DOT_ID_Marketing_Airline\n",
    "- IATA_Code_Marketing_Airline\n",
    "- Flight_Number_Marketing_Airline\n",
    "- Operating_Airline\n",
    "- DOT_ID_Operating_Airline\n",
    "- IATA_Code_Operating_Airline\n",
    "- Tail_Number\n",
    "- Flight_Number_Operating_Airline\n",
    "- OriginAirportID\n",
    "- OriginAirportSeqID\n",
    "- OriginCityMarketID\n",
    "- OriginCityName\n",
    "- OriginState\n",
    "- OriginStateFips\n",
    "- OriginStateName\n",
    "- OriginWac\n",
    "- DestAirportID\n",
    "- DestAirportSeqID\n",
    "- DestCityMarketID\n",
    "- DestCityName\n",
    "- DestState\n",
    "- DestStateFips\n",
    "- DestStateName\n",
    "- DestWac\n",
    "- DepDel15\n",
    "- DepartureDelayGroups\n",
    "- DepTimeBlk\n",
    "- TaxiOut\n",
    "- WheelsOff\n",
    "- WheelsOn\n",
    "- TaxiIn\n",
    "- CRSArrTime\n",
    "- ArrDelay\n",
    "- ArrDel15\n",
    "- ArrivalDelayGroups\n",
    "- ArrTimeBlk\n",
    "- DistanceGroup\n",
    "- DivAirportLandings\n",
    "file_path: /Users/viedamayanti/Desktop/Data_file/Combined_Flights_2021.csv\n"
   ]
  },
  {
   "cell_type": "code",
   "execution_count": 44,
   "id": "3118992b",
   "metadata": {},
   "outputs": [],
   "source": [
    "file_path = '/Users/viedamayanti/Desktop/Data-Glacier-Data-Analyst-Intern/Week6/flight_data.yaml'\n"
   ]
  },
  {
   "cell_type": "code",
   "execution_count": 45,
   "id": "0a99bc2c",
   "metadata": {},
   "outputs": [
    {
     "name": "stdout",
     "output_type": "stream",
     "text": [
      "Validation passed\n",
      "1\n"
     ]
    }
   ],
   "source": [
    "import yaml\n",
    "import logging\n",
    "def read_file(file_path):\n",
    "    with open(file_path,'r') as stream:\n",
    "        try:\n",
    "            yaml_data = yaml.safe_load(stream)\n",
    "            return yaml_data\n",
    "        except yaml.YAMLError as exc:\n",
    "            print(f\"Error reading YAML file: {exc}\")\n",
    "            logging.error(exc)\n",
    "           \n",
    "\n",
    "def col_validation(df_columns, yaml_data):\n",
    "    expected_col = yaml_data.get('columns')\n",
    "    if len(df.columns) == len(expected_col):\n",
    "        print('Validation passed')\n",
    "        return 1\n",
    "    else:\n",
    "        print('Column not matched - validation failed')\n",
    "        logging.info(f'df columns: {df_columns}')\n",
    "        logging.info(f'expected columns: {expected_col}')\n",
    "        return 0\n",
    "\n",
    "# Read the YAML file\n",
    "loaded_data = read_file(file_path)\n",
    "if loaded_data:\n",
    "    result = col_validation(df.columns, loaded_data)\n",
    "    print(result)\n",
    "else:\n",
    "    print('Error YAML file')\n"
   ]
  },
  {
   "cell_type": "code",
   "execution_count": 46,
   "id": "2fe69aa4",
   "metadata": {},
   "outputs": [
    {
     "name": "stdout",
     "output_type": "stream",
     "text": [
      "Combined_Flights_2021\n"
     ]
    }
   ],
   "source": [
    "config_data = read_file(file_path)\n",
    "print(config_data['file_name'])"
   ]
  },
  {
   "cell_type": "code",
   "execution_count": 47,
   "id": "110baa21",
   "metadata": {},
   "outputs": [
    {
     "name": "stdout",
     "output_type": "stream",
     "text": [
      "columns of files are: Index(['FlightDate', 'Airline', 'Origin', 'Dest', 'Cancelled', 'Diverted',\n",
      "       'CRSDepTime', 'DepTime', 'DepDelayMinutes', 'DepDelay', 'ArrTime',\n",
      "       'ArrDelayMinutes', 'AirTime', 'CRSElapsedTime', 'ActualElapsedTime',\n",
      "       'Distance', 'Year', 'Quarter', 'Month', 'DayofMonth', 'DayOfWeek',\n",
      "       'Marketing_Airline_Network', 'Operated_or_Branded_Code_Share_Partners',\n",
      "       'DOT_ID_Marketing_Airline', 'IATA_Code_Marketing_Airline',\n",
      "       'Flight_Number_Marketing_Airline', 'Operating_Airline',\n",
      "       'DOT_ID_Operating_Airline', 'IATA_Code_Operating_Airline',\n",
      "       'Tail_Number', 'Flight_Number_Operating_Airline', 'OriginAirportID',\n",
      "       'OriginAirportSeqID', 'OriginCityMarketID', 'OriginCityName',\n",
      "       'OriginState', 'OriginStateFips', 'OriginStateName', 'OriginWac',\n",
      "       'DestAirportID', 'DestAirportSeqID', 'DestCityMarketID', 'DestCityName',\n",
      "       'DestState', 'DestStateFips', 'DestStateName', 'DestWac', 'DepDel15',\n",
      "       'DepartureDelayGroups', 'DepTimeBlk', 'TaxiOut', 'WheelsOff',\n",
      "       'WheelsOn', 'TaxiIn', 'CRSArrTime', 'ArrDelay', 'ArrDel15',\n",
      "       'ArrivalDelayGroups', 'ArrTimeBlk', 'DistanceGroup',\n",
      "       'DivAirportLandings'],\n",
      "      dtype='object')\n",
      "columns of YAML are: ['FlightDate', 'Airline', 'Origin', 'Dest', 'Cancelled', 'Diverted', 'CRSDepTime', 'DepTime', 'DepDelayMinutes', 'DepDelay', 'ArrTime', 'ArrDelayMinutes', 'AirTime', 'CRSElapsedTime', 'ActualElapsedTime', 'Distance', 'Year', 'Quarter', 'Month', 'DayofMonth', 'DayOfWeek', 'Marketing_Airline_Network', 'Operated_or_Branded_Code_Share_Partners', 'DOT_ID_Marketing_Airline', 'IATA_Code_Marketing_Airline', 'Flight_Number_Marketing_Airline', 'Operating_Airline', 'DOT_ID_Operating_Airline', 'IATA_Code_Operating_Airline', 'Tail_Number', 'Flight_Number_Operating_Airline', 'OriginAirportID', 'OriginAirportSeqID', 'OriginCityMarketID', 'OriginCityName', 'OriginState', 'OriginStateFips', 'OriginStateName', 'OriginWac', 'DestAirportID', 'DestAirportSeqID', 'DestCityMarketID', 'DestCityName', 'DestState', 'DestStateFips', 'DestStateName', 'DestWac', 'DepDel15', 'DepartureDelayGroups', 'DepTimeBlk', 'TaxiOut', 'WheelsOff', 'WheelsOn', 'TaxiIn', 'CRSArrTime', 'ArrDelay', 'ArrDel15', 'ArrivalDelayGroups', 'ArrTimeBlk', 'DistanceGroup', 'DivAirportLandings']\n"
     ]
    }
   ],
   "source": [
    "print(\"columns of files are:\" ,df.columns)\n",
    "print(\"columns of YAML are:\" ,config_data['columns'])"
   ]
  },
  {
   "cell_type": "code",
   "execution_count": 48,
   "id": "9ab5250a",
   "metadata": {},
   "outputs": [
    {
     "name": "stdout",
     "output_type": "stream",
     "text": [
      "File Summary: \n",
      "Size of the file: 2214293351\n",
      "Number of rows: 6311871\n",
      "Number of columns: 61\n"
     ]
    }
   ],
   "source": [
    "# File summary\n",
    "file_size = os.path.getsize(path)\n",
    "num_rows = len(df)\n",
    "num_columns = len(df.columns)\n",
    "\n",
    "# Print the file summary \n",
    "print('File Summary: ')\n",
    "print(f'Size of the file: {file_size}')\n",
    "print(f'Number of rows: {num_rows}')\n",
    "print(f'Number of columns: {num_columns}')"
   ]
  },
  {
   "cell_type": "code",
   "execution_count": 49,
   "id": "7375c9c7",
   "metadata": {},
   "outputs": [
    {
     "name": "stdout",
     "output_type": "stream",
     "text": [
      "2214293351 bytes is approximately 2.062221 gigabytes.\n"
     ]
    }
   ],
   "source": [
    "bytes_value = file_size\n",
    "gigabytes_value = bytes_value / (1024**3)\n",
    "\n",
    "print(f\"{bytes_value} bytes is approximately {gigabytes_value:.6f} gigabytes.\")"
   ]
  },
  {
   "cell_type": "code",
   "execution_count": null,
   "id": "13d51053",
   "metadata": {},
   "outputs": [],
   "source": []
  }
 ],
 "metadata": {
  "kernelspec": {
   "display_name": "base",
   "language": "python",
   "name": "python3"
  },
  "language_info": {
   "codemirror_mode": {
    "name": "ipython",
    "version": 3
   },
   "file_extension": ".py",
   "mimetype": "text/x-python",
   "name": "python",
   "nbconvert_exporter": "python",
   "pygments_lexer": "ipython3",
   "version": "3.11.5"
  }
 },
 "nbformat": 4,
 "nbformat_minor": 5
}
